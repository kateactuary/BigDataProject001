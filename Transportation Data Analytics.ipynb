{
 "cells": [
  {
   "cell_type": "code",
   "execution_count": 1,
   "metadata": {},
   "outputs": [
    {
     "ename": "ImportError",
     "evalue": "No module named 'urlparse'",
     "output_type": "error",
     "traceback": [
      "\u001b[0;31m---------------------------------------------------------------------------\u001b[0m",
      "\u001b[0;31mImportError\u001b[0m                               Traceback (most recent call last)",
      "\u001b[0;32m<ipython-input-1-c7f50064e4eb>\u001b[0m in \u001b[0;36m<module>\u001b[0;34m()\u001b[0m\n\u001b[1;32m      2\u001b[0m \u001b[0;32mimport\u001b[0m \u001b[0mjson\u001b[0m\u001b[0;34m\u001b[0m\u001b[0m\n\u001b[1;32m      3\u001b[0m \u001b[0;32mimport\u001b[0m \u001b[0murllib\u001b[0m\u001b[0;34m\u001b[0m\u001b[0m\n\u001b[0;32m----> 4\u001b[0;31m \u001b[0;32mfrom\u001b[0m \u001b[0murlparse\u001b[0m \u001b[0;32mimport\u001b[0m \u001b[0murlparse\u001b[0m\u001b[0;34m\u001b[0m\u001b[0m\n\u001b[0m\u001b[1;32m      5\u001b[0m \u001b[0;32mimport\u001b[0m \u001b[0mhttplib2\u001b[0m \u001b[0;32mas\u001b[0m \u001b[0mhttp\u001b[0m\u001b[0;34m\u001b[0m\u001b[0m\n\u001b[1;32m      6\u001b[0m \u001b[0;32mimport\u001b[0m \u001b[0mcsv\u001b[0m\u001b[0;34m\u001b[0m\u001b[0m\n",
      "\u001b[0;31mImportError\u001b[0m: No module named 'urlparse'"
     ]
    }
   ],
   "source": [
    "#Get Data from API\n",
    "import json\n",
    "import urllib\n",
    "from urlparse import urlparse\n",
    "import httplib2 as http \n",
    "import csv\n",
    "import sched, time"
   ]
  },
  {
   "cell_type": "code",
   "execution_count": null,
   "metadata": {
    "collapsed": true
   },
   "outputs": [],
   "source": [
    "f = open(\"data.csv\",\"w\")\n",
    "csvData = csv.writer(f) \n",
    "csvData.writerow([\"Latitude\",\"Longitude\",\"Message\",\"Type\"])\n",
    "f.close()"
   ]
  },
  {
   "cell_type": "code",
   "execution_count": null,
   "metadata": {
    "collapsed": true
   },
   "outputs": [],
   "source": [
    "s = sched.scheduler(time.time, time.sleep)"
   ]
  },
  {
   "cell_type": "code",
   "execution_count": null,
   "metadata": {
    "collapsed": true
   },
   "outputs": [],
   "source": [
    "def requestData(sc):\n",
    "    print(\"Requesting Data at \" + time.ctime())\n",
    "\n",
    "    headers = { 'AccountKey' : '1TRa856ZReORAgOAzLJf3Q==',\n",
    "                'UniqueUserID' : '0aa98394-f083-463c-987c-9b5e20fa3e72',\n",
    "                'accept' : 'application/json'} \n",
    "\n",
    "    uri = 'http://datamall2.mytransport.sg/' \n",
    "    path = '/ltaodataservice/TrafficIncidents?'\n",
    "\n",
    "    target = urlparse(uri + path)\n",
    "    method = 'GET'\n",
    "    body = ''"
   ]
  },
  {
   "cell_type": "code",
   "execution_count": null,
   "metadata": {
    "collapsed": true
   },
   "outputs": [],
   "source": [
    " h = http.Http()\n",
    "\n",
    "    response, content = h.request(target.geturl(),\n",
    "                                  method,\n",
    "                                  body,\n",
    "                                  headers)\n",
    "    jsonObj = json.loads(content)"
   ]
  },
  {
   "cell_type": "code",
   "execution_count": null,
   "metadata": {
    "collapsed": true
   },
   "outputs": [],
   "source": [
    "    with open(\"traffic_incidents.json\",\"w\") as outfile:\n",
    "     json.dump(jsonObj,\n",
    "               outfile,\n",
    "               sort_keys=True,\n",
    "               indent=4,\n",
    "               ensure_ascii=False)"
   ]
  },
  {
   "cell_type": "code",
   "execution_count": null,
   "metadata": {
    "collapsed": true
   },
   "outputs": [],
   "source": [
    "\n",
    "    with open(\"traffic_incidents.json\",\"r\") as jsonData:\n",
    "     data = json.loads(jsonData.read())\n",
    "\n",
    "    f = open(\"data.csv\", \"a\")\n",
    "    csvData = csv.writer(f)\n",
    "\n",
    "    for x in data[\"value\"]:\n",
    "     csvData.writerow([x[\"Latitude\"], x[\"Longitude\"], x[\"Message\"],\n",
    "                       x[\"Type\"]])\n",
    "    f.close()\n",
    "\n",
    "    sc.enter(300,1,requestData,(sc,))"
   ]
  },
  {
   "cell_type": "code",
   "execution_count": null,
   "metadata": {
    "collapsed": true
   },
   "outputs": [],
   "source": [
    "s.enter(300,1,requestData,(s,))    \n",
    "s.run()"
   ]
  }
 ],
 "metadata": {
  "kernelspec": {
   "display_name": "Python 3",
   "language": "python",
   "name": "python3"
  },
  "language_info": {
   "codemirror_mode": {
    "name": "ipython",
    "version": 3
   },
   "file_extension": ".py",
   "mimetype": "text/x-python",
   "name": "python",
   "nbconvert_exporter": "python",
   "pygments_lexer": "ipython3",
   "version": "3.5.2"
  }
 },
 "nbformat": 4,
 "nbformat_minor": 2
}
